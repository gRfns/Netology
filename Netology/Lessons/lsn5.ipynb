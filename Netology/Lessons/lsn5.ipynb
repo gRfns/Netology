{
 "cells": [
  {
   "cell_type": "code",
   "execution_count": 130,
   "metadata": {},
   "outputs": [],
   "source": [
    "documents = [\n",
    " {'type': 'passport', 'number': '2207 876234', 'name': 'Василий Гупкин'},\n",
    " {'type': 'invoice', 'number': '11-2', 'name': 'Геннадий Покемонов'},\n",
    " {'type': 'insurance', 'number': '10006', 'name': 'Аристарх Павлов'}\n",
    "]\n",
    "directories = {\n",
    " '1': ['2207 876234', '11-2'],\n",
    " '2': ['10006'],\n",
    " '3': []\n",
    "}"
   ]
  },
  {
   "cell_type": "code",
   "execution_count": 3,
   "metadata": {},
   "outputs": [],
   "source": [
    "def main():\n",
    "    while True:\n",
    "        user_input = input(\"Введите команду: \")\n",
    "        if user_input == 'p':\n",
    "            number_owner(documents)\n",
    "        elif user_input == 's':\n",
    "            number_shelf(directories)\n",
    "        elif user_input == 'l':\n",
    "            info(documents,directories)\n",
    "        elif user_input == 'ads':   \n",
    "            ad_shelf(directories)\n",
    "        elif user_input == 'ds':\n",
    "            del_shelf(directories)\n",
    "        elif user_input == 'ad':\n",
    "            ad_shelf(documents,directories)\n",
    "        elif user_input == 'd':\n",
    "            del_doc(documents,directories)\n",
    "        elif user_input == 'm':\n",
    "            doc_move(directories)\n",
    "        elif user_input == 'q':\n",
    "            print(\"Good bye!!!\")\n",
    "            break"
   ]
  },
  {
   "cell_type": "code",
   "execution_count": 4,
   "metadata": {},
   "outputs": [],
   "source": [
    "def number_owner(docs):\n",
    "    x = input('Введите номер документа: ')\n",
    "    for n in docs:\n",
    "        if x == n['number']:\n",
    "            print(n['name'])\n",
    "            break\n",
    "    else: print(\"Документ не найден в базе\")"
   ]
  },
  {
   "cell_type": "code",
   "execution_count": 5,
   "metadata": {},
   "outputs": [],
   "source": [
    "def number_shelf(direct):\n",
    "    x = input(\"Введите номер документа: \")\n",
    "    for key, value in direct.items():\n",
    "        if x in value:\n",
    "            print(f\"Документ хранится на полке: {key}\")\n",
    "            break\n",
    "    else: print(\"Документ не найден в базе\")"
   ]
  },
  {
   "cell_type": "code",
   "execution_count": 6,
   "metadata": {},
   "outputs": [],
   "source": [
    "def info(docs,dirs):\n",
    "    for n in docs:\n",
    "        k = n['number']\n",
    "        for key, value in dirs.items():\n",
    "            if k in value:\n",
    "                print(f\"№: {n['number']}, тип: {n['type']}, владелец: {n['name']}, полка хранения {key}\")"
   ]
  },
  {
   "cell_type": "code",
   "execution_count": 7,
   "metadata": {},
   "outputs": [],
   "source": [
    "def ad_shelf(dirs):\n",
    "    ad = input(\"Введите номер полки: \")\n",
    "    if ad in dirs:\n",
    "        print(f\"Такая полка уже существует. Текущий перечень полок: {', '.join(dirs.keys())}\")\n",
    "    else:\n",
    "        dirs.setdefault(ad, [])\n",
    "        print(f\"Полка добавлена. Текущий перечень полок: {', '.join(dirs.keys())}\")"
   ]
  },
  {
   "cell_type": "code",
   "execution_count": 8,
   "metadata": {},
   "outputs": [],
   "source": [
    "def del_shelf(docs,dirs):\n",
    "    ds = input(\"Введите номер полки: \")\n",
    "    if ds in dirs and dirs[ds] == []:\n",
    "        del(dirs[ds])\n",
    "        print(f\"Полка удалена. Текущий перечень полок: {', '.join(dirs.keys())}\")\n",
    "    elif ds in dirs and dirs[ds] != []:\n",
    "        print(f\"На полке есть документы, удалите их перед удалением полки. Текущий перечень полок: {', '.join(dirs.keys())}\")\n",
    "    elif ds not in dirs:\n",
    "        print(f\"Такой полки не существует. Текущий перечень полок: {', '.join(dirs.keys())}\")"
   ]
  },
  {
   "cell_type": "code",
   "execution_count": 9,
   "metadata": {},
   "outputs": [],
   "source": [
    "def ad_shelf(docs,dirs):\n",
    "    d_num = input(\"Введите номер документа: \")\n",
    "    d_typ = input(\"Введите тип документа: \")\n",
    "    d_own = input(\"Введите владельца документа: \")\n",
    "    d_she = input(\"Введите полку для хранения: \")\n",
    "    if d_she in directories:\n",
    "        new = {'type': d_typ, 'number': d_num, 'name': d_own}\n",
    "        docs.append(new)\n",
    "        dirs[d_she].append(d_num)\n",
    "        print(\"Документ добавлен. Текущий список документов: \")\n",
    "        info(docs,directories)\n",
    "    else: \n",
    "        print(\"Такой полки не существует. Добавьте полку командой as. \\n\")\n",
    "        info(docs,directories)"
   ]
  },
  {
   "cell_type": "code",
   "execution_count": 10,
   "metadata": {},
   "outputs": [],
   "source": [
    "def del_doc(docs,dirs):\n",
    "    doc_num = input('Введите номер документа: ')\n",
    "    for i, v  in enumerate(docs):\n",
    "        if doc_num == v['number']:\n",
    "            del(docs[i])\n",
    "            print(\"\\n Документ удален. \\n Текущий список документов: \")\n",
    "            info(docs,directories)\n",
    "            break\n",
    "    else:\n",
    "        doc_num != v['number']\n",
    "        print(\"\\n Документ не найден в базе. \\n Текущий список документов: \")\n",
    "        info(documents,directories)  \n",
    "    for l in dirs.values():\n",
    "        if doc_num in l:\n",
    "            l.remove(doc_num)"
   ]
  },
  {
   "cell_type": "code",
   "execution_count": 139,
   "metadata": {},
   "outputs": [],
   "source": [
    "def doc_move(dirs):\n",
    "    doc_num = input(\"Введите номер документа: \")\n",
    "    d_she = input(\"Введите номер полки: \")\n",
    "    docs_list = []\n",
    "    for n in documents:\n",
    "        docs_list.append(n['number'])\n",
    "    if doc_num not in docs_list:\n",
    "        print(\"\\n Документ не найден в базе. \\n Текущий список документов: \")\n",
    "        info(documents,directories)\n",
    "    elif d_she in dirs:\n",
    "        for i, k in dirs.items():\n",
    "            if doc_num in k:\n",
    "                k.remove(doc_num)\n",
    "        directories[d_she], k.append(doc_num)\n",
    "        print(\"\\n Документ перемещен. \\n Текущий список документов: \")\n",
    "        info(documents,directories)\n",
    "    elif d_she not in dirs:\n",
    "        print(f\"\\n Такой полки не существует. \\n Текущий перечень полок: {', '.join(list(directories.keys()))}.\")\n"
   ]
  },
  {
   "cell_type": "code",
   "execution_count": 140,
   "metadata": {},
   "outputs": [
    {
     "name": "stdout",
     "output_type": "stream",
     "text": [
      "Введите команду: m\n",
      "Введите номер документа: 1111\n",
      "Введите номер полки: 3\n",
      "\n",
      " Документ не найден в базе. \n",
      " Текущий список документов: \n",
      "№: 2207 876234, тип: passport, владелец: Василий Гупкин, полка хранения 1\n",
      "№: 11-2, тип: invoice, владелец: Геннадий Покемонов, полка хранения 1\n",
      "№: 10006, тип: insurance, владелец: Аристарх Павлов, полка хранения 2\n",
      "Введите команду: m\n",
      "Введите номер документа: 11-2\n",
      "Введите номер полки: 3\n",
      "\n",
      " Документ перемещен. \n",
      " Текущий список документов: \n",
      "№: 2207 876234, тип: passport, владелец: Василий Гупкин, полка хранения 1\n",
      "№: 11-2, тип: invoice, владелец: Геннадий Покемонов, полка хранения 3\n",
      "№: 10006, тип: insurance, владелец: Аристарх Павлов, полка хранения 2\n",
      "Введите команду: m\n",
      "Введите номер документа: 11-2\n",
      "Введите номер полки: 4\n",
      "\n",
      " Такой полки не существует. \n",
      " Текущий перечень полок: 1, 2, 3.\n",
      "Введите команду: q\n",
      "Good bye!!!\n"
     ]
    }
   ],
   "source": [
    "main()"
   ]
  }
 ],
 "metadata": {
  "kernelspec": {
   "display_name": "Python 3",
   "language": "python",
   "name": "python3"
  },
  "language_info": {
   "codemirror_mode": {
    "name": "ipython",
    "version": 3
   },
   "file_extension": ".py",
   "mimetype": "text/x-python",
   "name": "python",
   "nbconvert_exporter": "python",
   "pygments_lexer": "ipython3",
   "version": "3.8.3"
  }
 },
 "nbformat": 4,
 "nbformat_minor": 4
}
