{
 "cells": [
  {
   "cell_type": "code",
   "execution_count": 4,
   "metadata": {},
   "outputs": [],
   "source": [
    "import numpy as np"
   ]
  },
  {
   "cell_type": "code",
   "execution_count": 24,
   "metadata": {},
   "outputs": [
    {
     "data": {
      "text/plain": [
       "0"
      ]
     },
     "execution_count": 24,
     "metadata": {},
     "output_type": "execute_result"
    }
   ],
   "source": [
    "120 % 10"
   ]
  },
  {
   "cell_type": "code",
   "execution_count": 136,
   "metadata": {},
   "outputs": [
    {
     "name": "stdout",
     "output_type": "stream",
     "text": [
      "9436\n"
     ]
    }
   ],
   "source": [
    "avg_lose = []\n",
    "trials = 10000    # Количество попыток\n",
    "bank = 10000    # Банк игрока\n",
    "for i in range(trials):\n",
    "    bank -= 1\n",
    "    lmr = np.random.randint(1, 1000)\n",
    "    if lmr % 777 == 0:\n",
    "        bank += 200\n",
    "    elif lmr % 999 == 0:\n",
    "        bank += 100\n",
    "    elif lmr % 555 == 0:\n",
    "        bank += 50\n",
    "    elif lmr % 333 == 0:\n",
    "        bank += 15\n",
    "    elif lmr % 111 == 0:\n",
    "        bank += 10\n",
    "    elif lmr % 100 == 77:\n",
    "        bank += 5\n",
    "    elif lmr % 100 == 77:\n",
    "        bank += 5\n",
    "    elif lmr % 10 == 7:\n",
    "        bank += 3\n",
    "    elif lmr % 100 == 0:\n",
    "        bank += 2\n",
    "    elif lmr % 10 == 0:\n",
    "        bank += 1\n",
    "    avg_lose.append(bank)\n",
    "print(bank)"
   ]
  },
  {
   "cell_type": "code",
   "execution_count": 137,
   "metadata": {},
   "outputs": [],
   "source": [
    "ses = 100 # кол-во сессий\n",
    "avg_lose = [] # список конечных банков\n",
    "for d in range(ses):    \n",
    "    trials = 10000    # Количество попыток\n",
    "    bank = 10000    # Банк игрока\n",
    "    for i in range(trials):\n",
    "        bank -= 1\n",
    "        lmr = np.random.randint(1, 1000)\n",
    "        if lmr % 777 == 0:\n",
    "            bank += 200\n",
    "        elif lmr % 999 == 0:\n",
    "            bank += 100\n",
    "        elif lmr % 555 == 0:\n",
    "            bank += 50\n",
    "        elif lmr % 333 == 0:\n",
    "            bank += 15\n",
    "        elif lmr % 111 == 0:\n",
    "            bank += 10\n",
    "        elif lmr % 100 == 77:\n",
    "            bank += 5\n",
    "        elif lmr % 100 == 77:\n",
    "            bank += 5\n",
    "        elif lmr % 10 == 7:\n",
    "            bank += 3\n",
    "        elif lmr % 100 == 0:\n",
    "            bank += 2\n",
    "        elif lmr % 10 == 0:\n",
    "            bank += 1  \n",
    "    avg_lose.append(bank)"
   ]
  },
  {
   "cell_type": "code",
   "execution_count": 145,
   "metadata": {},
   "outputs": [
    {
     "name": "stdout",
     "output_type": "stream",
     "text": [
      "Средний проигрыш 8453.1, играть не выгодно!!!\n"
     ]
    }
   ],
   "source": [
    "avg = sum(avg_lose) / len(avg_lose)\n",
    "print(f'Средний проигрыш {avg}, играть не выгодно!!!')\n"
   ]
  }
 ],
 "metadata": {
  "kernelspec": {
   "display_name": "Python 3",
   "language": "python",
   "name": "python3"
  },
  "language_info": {
   "codemirror_mode": {
    "name": "ipython",
    "version": 3
   },
   "file_extension": ".py",
   "mimetype": "text/x-python",
   "name": "python",
   "nbconvert_exporter": "python",
   "pygments_lexer": "ipython3",
   "version": "3.8.3"
  }
 },
 "nbformat": 4,
 "nbformat_minor": 4
}
