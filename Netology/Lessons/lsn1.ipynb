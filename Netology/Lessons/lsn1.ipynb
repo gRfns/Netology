{
 "cells": [
  {
   "cell_type": "markdown",
   "metadata": {},
   "source": [
    "Задание 1"
   ]
  },
  {
   "cell_type": "code",
   "execution_count": 22,
   "metadata": {},
   "outputs": [
    {
     "name": "stdout",
     "output_type": "stream",
     "text": [
      "Введите первую фразу: Насколько проще было бы писать программы, если бы не заказчики\n",
      "Введите вторую фразу: Насколько проще было бы писать программы, если бы не заказчики\n",
      "Фразы равной длинны\n"
     ]
    }
   ],
   "source": [
    "phrase_1=input(\"Введите первую фразу: \")\n",
    "phrase_2=input(\"Введите вторую фразу: \")\n",
    "if len(phrase_1) > len(phrase_2):\n",
    "    print(\"Фраза 1 длиннее фразы 2\")\n",
    "elif len(phrase_2) > len(phrase_1):\n",
    "    print(\"Фраза 2 длиннее фразы 1\")\n",
    "else: print(\"Фразы равной длинны\")\n"
   ]
  },
  {
   "cell_type": "markdown",
   "metadata": {},
   "source": [
    "Задание 2"
   ]
  },
  {
   "cell_type": "code",
   "execution_count": 45,
   "metadata": {},
   "outputs": [
    {
     "name": "stdout",
     "output_type": "stream",
     "text": [
      "3636\n",
      "Високосный год\n"
     ]
    }
   ],
   "source": [
    "year = int(input())\n",
    "if len(str(year)) == 4:\n",
    "    if (year % 4 == 0) and (year % 100 != 0) or (year % 400 == 0):\n",
    "        print('Високосный год')\n",
    "    else:\n",
    "        print('Обычный год')\n",
    "else: \n",
    "    print ('Вы ошиблись, введите год')"
   ]
  },
  {
   "cell_type": "markdown",
   "metadata": {},
   "source": [
    "Задание 3"
   ]
  },
  {
   "cell_type": "code",
   "execution_count": 58,
   "metadata": {},
   "outputs": [
    {
     "name": "stdout",
     "output_type": "stream",
     "text": [
      "Введите день: 7\n",
      "Введите месяц: 9\n",
      "Ваш знак зодиака: Дева\n"
     ]
    }
   ],
   "source": [
    "day = int(input(\"Введите день: \"))\n",
    "month = int(input(\"Введите месяц: \"))\n",
    "if (day >= 21 and day <=30 and month ==3) or (month ==4 and day >=1 and day <=19):\n",
    "    print(\"Ваш знак зодиака: Овен\")\n",
    "elif (day >= 20 and day <=30 and month ==4) or (month==5 and day >= 1 and day <=20):\n",
    "    print(\"Ваш знак зодиака: Телец\")\n",
    "elif (day >= 21 and day <= 31 and month ==5) or (month==6 and day >= 1 and day <=21):\n",
    "    print(\"Ваш знак зодиака: Близнецы\")\n",
    "elif (day >= 22 and day <= 30 and month ==6) or (month==7 and day >= 1 and day <=22):\n",
    "    print(\"Ваш знак зодиака: Рак\")\n",
    "elif (day >= 23 and day <= 31 and month ==7) or (month==8 and day >= 1 and day <=22):\n",
    "    print(\"Ваш знак зодиака: Лев\")\n",
    "elif (day >= 23 and day <= 31 and month ==8) or (month==9 and day >= 1 and day <=22):\n",
    "    print(\"Ваш знак зодиака: Дева\")\n",
    "elif (day >= 23 and day <= 30 and month ==9) or (month==10 and day >= 1 and day <=23):\n",
    "    print(\"Ваш знак зодиака: Весы\")\n",
    "elif (day >= 24 and day <= 31 and month ==10) or (month==11 and day >= 1 and day <=22):\n",
    "    print(\"Ваш знак зодиака: Скорпион\")\n",
    "elif (day >= 23 and day <= 30 and month ==11) or (month==12 and day >= 1 and day <=21):\n",
    "    print(\"Ваш знак зодиака: Стрелец\")\n",
    "elif (day >= 22 and day <= 31 and month ==12) or (month==1 and day >= 1 and day <=20):\n",
    "    print(\"Ваш знак зодиака: Козерог\")\n",
    "elif (day >= 21 and day <= 31 and month ==1) or (month==2 and day >= 1 and day <=18):\n",
    "    print(\"Ваш знак зодиака: Водолей\")\n",
    "elif (day >= 19 and day <= 29 and month ==2) or (month==3 and day >= 1 and day <=20):\n",
    "    print(\"Ваш знак зодиака: Рыбы\")"
   ]
  },
  {
   "cell_type": "markdown",
   "metadata": {},
   "source": [
    "Задание 4"
   ]
  },
  {
   "cell_type": "code",
   "execution_count": 72,
   "metadata": {
    "scrolled": true
   },
   "outputs": [
    {
     "name": "stdout",
     "output_type": "stream",
     "text": [
      "Коробка №1\n"
     ]
    }
   ],
   "source": [
    "width = 7\n",
    "length = 2\n",
    "height = 1\n",
    "if length < 200:\n",
    "    if (width < 15) and (length < 15) and (height < 15):\n",
    "        print(\"Коробка №1\")\n",
    "    elif (15 < width < 50) or (15 < length < 50) or (15 < height < 50):\n",
    "        print(\"Коробка №2\")\n",
    "    else: print(\"Стандартная коробка №3\")\n",
    "else: print(\"Упаковка для лыж\")"
   ]
  },
  {
   "cell_type": "markdown",
   "metadata": {},
   "source": [
    "Задание 5"
   ]
  },
  {
   "cell_type": "code",
   "execution_count": 99,
   "metadata": {},
   "outputs": [
    {
     "name": "stdout",
     "output_type": "stream",
     "text": [
      "Введите номер билета: 999999\n",
      "Счастливый билет\n"
     ]
    }
   ],
   "source": [
    "number = input(\"Введите номер билета: \")\n",
    "if (int(number[0]) + int(number[1]) + int(number[2])) == (int(number[3]) + int(number[4])+ int(number[5])):\n",
    "        print(\"Счастливый билет\")\n",
    "else: print(\"Несчастливый билет\")\n"
   ]
  },
  {
   "cell_type": "markdown",
   "metadata": {},
   "source": [
    "Задание 6"
   ]
  },
  {
   "cell_type": "code",
   "execution_count": 1,
   "metadata": {},
   "outputs": [
    {
     "name": "stdout",
     "output_type": "stream",
     "text": [
      "Введите название фигуры: Треугольник\n",
      "Введите длину стороны A: 3\n",
      "Введите длину стороны B: 2\n",
      "Введите длину стороны C: 4\n",
      "Площадь треугольника равна: 2.9047375096555625\n"
     ]
    }
   ],
   "source": [
    "figure = input(\"Введите название фигуры: \")\n",
    "if figure.capitalize() == 'Круг':\n",
    "    r = int(input(\"Введите радиус круга: \"))\n",
    "    print(f\"Площадь круга равна: {r * 3.14}\")\n",
    "elif figure.capitalize() == 'Треугольник':\n",
    "    a = int(input(\"Введите длину стороны A: \"))\n",
    "    b = int(input(\"Введите длину стороны B: \"))\n",
    "    c = int(input(\"Введите длину стороны C: \"))\n",
    "    p = (a + b + c) / 2\n",
    "    s = p * (p - a) * (p - b) * (p - c)\n",
    "    print(f\"Площадь треугольника равна: {s**0.5}\")\n",
    "elif figure.capitalize() == 'Прямоугольник':\n",
    "    a = int(input(\"Введите длину стороны A: \"))\n",
    "    b = int(input(\"Введите длину стороны B: \"))\n",
    "    print(f\"Площадь прямоугольника равна: {a * b}\")  "
   ]
  }
 ],
 "metadata": {
  "kernelspec": {
   "display_name": "Python 3",
   "language": "python",
   "name": "python3"
  },
  "language_info": {
   "codemirror_mode": {
    "name": "ipython",
    "version": 3
   },
   "file_extension": ".py",
   "mimetype": "text/x-python",
   "name": "python",
   "nbconvert_exporter": "python",
   "pygments_lexer": "ipython3",
   "version": "3.8.3"
  }
 },
 "nbformat": 4,
 "nbformat_minor": 4
}
