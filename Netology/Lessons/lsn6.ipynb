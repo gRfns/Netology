{
 "cells": [
  {
   "cell_type": "code",
   "execution_count": 19,
   "metadata": {},
   "outputs": [],
   "source": [
    "from datetime import datetime\n",
    "from datetime import timedelta"
   ]
  },
  {
   "cell_type": "markdown",
   "metadata": {},
   "source": [
    "#### Задание 1"
   ]
  },
  {
   "cell_type": "markdown",
   "metadata": {},
   "source": [
    "Печатные газеты использовали свой формат дат для каждого выпуска. Для каждой газеты из списка напишите формат указанной даты для перевода в объект datetime:\n",
    "The Moscow Times - Wednesday, October 2, 2002\n",
    "The Guardian - Friday, 11.10.13\n",
    "Daily News - Thursday, 18 August 1977"
   ]
  },
  {
   "cell_type": "code",
   "execution_count": null,
   "metadata": {},
   "outputs": [],
   "source": [
    "moscow_time = datetime.strptime('Wednesday, October 2, 2002','%A, %B %d, %Y')\n",
    "gurdian = datetime.strptime('Friday, 11.10.13','%A, %m.%d.%y')\n",
    "daily_news = datetime.strptime('Thursday, 18 August 1977','%A, %d %B %Y')"
   ]
  },
  {
   "cell_type": "markdown",
   "metadata": {},
   "source": [
    "#### Задание 2"
   ]
  },
  {
   "cell_type": "code",
   "execution_count": 17,
   "metadata": {},
   "outputs": [],
   "source": [
    "stream = ['2018-04-02', '2018-02-29', '2018-19-02']"
   ]
  },
  {
   "cell_type": "code",
   "execution_count": 18,
   "metadata": {},
   "outputs": [
    {
     "name": "stdout",
     "output_type": "stream",
     "text": [
      "True Правильная дата 2018-04-02\n",
      "True Правильная дата 2018-02-29\n",
      "False Неправильная дата 2018-19-02\n"
     ]
    }
   ],
   "source": [
    "for i in stream:\n",
    "    if int(i[5:7]) > 12:\n",
    "        print(False, 'Неправильная дата', i)\n",
    "    else: print(True, 'Правильная дата', i)"
   ]
  },
  {
   "cell_type": "markdown",
   "metadata": {},
   "source": [
    "#### Задание 3"
   ]
  },
  {
   "cell_type": "code",
   "execution_count": 55,
   "metadata": {},
   "outputs": [
    {
     "name": "stdout",
     "output_type": "stream",
     "text": [
      "Введите дату в формате YYYY-MM-DD: 2020-09-07\n",
      "Введите дату в формате YYYY-MM-DD: 2020-09-10\n",
      "2020-09-07\n",
      "2020-09-08\n",
      "2020-09-09\n",
      "2020-09-10\n",
      "Бред\n"
     ]
    }
   ],
   "source": [
    "start_date = input(\"Введите дату в формате YYYY-MM-DD: \")\n",
    "end_date = input(\"Введите дату в формате YYYY-MM-DD: \")\n",
    "try:\n",
    "    start_date_dt = datetime.strptime(start_date, '%Y-%m-%d')\n",
    "    end_date_dt = datetime.strptime(end_date, '%Y-%m-%d')\n",
    "    while start_date_dt <= end_date_dt:\n",
    "        print(start_date_dt.strftime('%Y-%m-%d'))\n",
    "        start_date_dt += timedelta(days=1)\n",
    "except:\n",
    "    print('Неправильный формат даты')\n",
    "finally:\n",
    "        print('Бред')"
   ]
  },
  {
   "cell_type": "code",
   "execution_count": 51,
   "metadata": {},
   "outputs": [],
   "source": [
    "start_date = '2020-09-07'\n",
    "end_date = '2020-09-17'\n",
    "start_date_dt = datetime.strptime(start_date, '%Y-%m-%d')\n",
    "end_date_dt = datetime.strptime(end_date, '%Y-%m-%d')"
   ]
  },
  {
   "cell_type": "code",
   "execution_count": 53,
   "metadata": {},
   "outputs": [],
   "source": [
    "while start_date_dt <= end_date_dt:\n",
    "    print()\n",
    " ##   print(start_date_dt.strftime('%Y-%m-%d'))    \n",
    "    start_date_dt += timedelta(days=1)\n",
    "    "
   ]
  },
  {
   "cell_type": "code",
   "execution_count": 54,
   "metadata": {},
   "outputs": [
    {
     "data": {
      "text/plain": [
       "datetime.datetime(2020, 9, 18, 0, 0)"
      ]
     },
     "execution_count": 54,
     "metadata": {},
     "output_type": "execute_result"
    }
   ],
   "source": [
    "start_date_dt"
   ]
  },
  {
   "cell_type": "code",
   "execution_count": 43,
   "metadata": {},
   "outputs": [],
   "source": [
    "while start_date_dt <= end_date_dt:\n",
    "    print(start_date_dt.strftime('%Y-%m-%d'))\n",
    "    \n",
    "    start_date_dt += timedelta(days=1)"
   ]
  },
  {
   "cell_type": "code",
   "execution_count": null,
   "metadata": {},
   "outputs": [],
   "source": []
  }
 ],
 "metadata": {
  "kernelspec": {
   "display_name": "Python 3",
   "language": "python",
   "name": "python3"
  },
  "language_info": {
   "codemirror_mode": {
    "name": "ipython",
    "version": 3
   },
   "file_extension": ".py",
   "mimetype": "text/x-python",
   "name": "python",
   "nbconvert_exporter": "python",
   "pygments_lexer": "ipython3",
   "version": "3.8.3"
  }
 },
 "nbformat": 4,
 "nbformat_minor": 4
}
