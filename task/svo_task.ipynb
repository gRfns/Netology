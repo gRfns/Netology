{
 "cells": [
  {
   "cell_type": "code",
   "execution_count": 1,
   "metadata": {},
   "outputs": [],
   "source": [
    "import pandas as pd\n",
    "import numpy as np"
   ]
  },
  {
   "cell_type": "code",
   "execution_count": 2,
   "metadata": {},
   "outputs": [],
   "source": [
    "df = pd.read_excel('task_svo.xlsx', sheet_name='main')"
   ]
  },
  {
   "cell_type": "code",
   "execution_count": 3,
   "metadata": {},
   "outputs": [],
   "source": [
    "df.replace('-',np.NaN,inplace=True)"
   ]
  },
  {
   "cell_type": "code",
   "execution_count": 4,
   "metadata": {},
   "outputs": [
    {
     "data": {
      "text/html": [
       "<div>\n",
       "<style scoped>\n",
       "    .dataframe tbody tr th:only-of-type {\n",
       "        vertical-align: middle;\n",
       "    }\n",
       "\n",
       "    .dataframe tbody tr th {\n",
       "        vertical-align: top;\n",
       "    }\n",
       "\n",
       "    .dataframe thead th {\n",
       "        text-align: right;\n",
       "    }\n",
       "</style>\n",
       "<table border=\"1\" class=\"dataframe\">\n",
       "  <thead>\n",
       "    <tr style=\"text-align: right;\">\n",
       "      <th></th>\n",
       "      <th>№</th>\n",
       "      <th>Дата</th>\n",
       "      <th>Наименование а/к</th>\n",
       "      <th>Код автакомпании</th>\n",
       "      <th>Номер рейса</th>\n",
       "      <th>Тип рейса</th>\n",
       "      <th>Флаг прилет/вылет</th>\n",
       "      <th>Направление</th>\n",
       "      <th>Кол-во пассажиров</th>\n",
       "      <th>Международный/ Внутрений</th>\n",
       "    </tr>\n",
       "  </thead>\n",
       "  <tbody>\n",
       "    <tr>\n",
       "      <th>0</th>\n",
       "      <td>1</td>\n",
       "      <td>2021-01-25</td>\n",
       "      <td>а/к Полет</td>\n",
       "      <td>PL</td>\n",
       "      <td>526</td>\n",
       "      <td>Регулярный</td>\n",
       "      <td>D</td>\n",
       "      <td>Самара</td>\n",
       "      <td>110.0</td>\n",
       "      <td>Внутрений</td>\n",
       "    </tr>\n",
       "    <tr>\n",
       "      <th>1</th>\n",
       "      <td>2</td>\n",
       "      <td>2021-01-25</td>\n",
       "      <td>а/к Мечта</td>\n",
       "      <td>MC</td>\n",
       "      <td>34</td>\n",
       "      <td>Грузовой</td>\n",
       "      <td>D</td>\n",
       "      <td>Владивосток</td>\n",
       "      <td>NaN</td>\n",
       "      <td>Внутрений</td>\n",
       "    </tr>\n",
       "    <tr>\n",
       "      <th>2</th>\n",
       "      <td>3</td>\n",
       "      <td>2021-01-25</td>\n",
       "      <td>а/к Мечта</td>\n",
       "      <td>MC</td>\n",
       "      <td>46</td>\n",
       "      <td>Чартер</td>\n",
       "      <td>D</td>\n",
       "      <td>Минеральные воды</td>\n",
       "      <td>146.0</td>\n",
       "      <td>Внутрений</td>\n",
       "    </tr>\n",
       "    <tr>\n",
       "      <th>3</th>\n",
       "      <td>4</td>\n",
       "      <td>2021-01-25</td>\n",
       "      <td>а/к Полет</td>\n",
       "      <td>PL</td>\n",
       "      <td>507</td>\n",
       "      <td>Чартер</td>\n",
       "      <td>A</td>\n",
       "      <td>Токио</td>\n",
       "      <td>225.0</td>\n",
       "      <td>Международный</td>\n",
       "    </tr>\n",
       "    <tr>\n",
       "      <th>4</th>\n",
       "      <td>5</td>\n",
       "      <td>2021-01-25</td>\n",
       "      <td>а/к Полет</td>\n",
       "      <td>PL</td>\n",
       "      <td>517</td>\n",
       "      <td>Регулярный</td>\n",
       "      <td>A</td>\n",
       "      <td>Нью-Йорк</td>\n",
       "      <td>179.0</td>\n",
       "      <td>Международный</td>\n",
       "    </tr>\n",
       "  </tbody>\n",
       "</table>\n",
       "</div>"
      ],
      "text/plain": [
       "   №       Дата Наименование а/к Код автакомпании  Номер рейса   Тип рейса  \\\n",
       "0  1 2021-01-25        а/к Полет               PL          526  Регулярный   \n",
       "1  2 2021-01-25        а/к Мечта               MC           34    Грузовой   \n",
       "2  3 2021-01-25        а/к Мечта               MC           46      Чартер   \n",
       "3  4 2021-01-25        а/к Полет               PL          507      Чартер   \n",
       "4  5 2021-01-25        а/к Полет               PL          517  Регулярный   \n",
       "\n",
       "  Флаг прилет/вылет       Направление  Кол-во пассажиров  \\\n",
       "0                 D            Самара              110.0   \n",
       "1                 D       Владивосток                NaN   \n",
       "2                 D  Минеральные воды              146.0   \n",
       "3                 A             Токио              225.0   \n",
       "4                 A          Нью-Йорк              179.0   \n",
       "\n",
       "  Международный/ Внутрений  \n",
       "0                Внутрений  \n",
       "1                Внутрений  \n",
       "2                Внутрений  \n",
       "3            Международный  \n",
       "4            Международный  "
      ]
     },
     "execution_count": 4,
     "metadata": {},
     "output_type": "execute_result"
    }
   ],
   "source": [
    "df.head(5)"
   ]
  },
  {
   "cell_type": "code",
   "execution_count": 5,
   "metadata": {
    "collapsed": true
   },
   "outputs": [
    {
     "name": "stdout",
     "output_type": "stream",
     "text": [
      "<class 'pandas.core.frame.DataFrame'>\n",
      "RangeIndex: 50 entries, 0 to 49\n",
      "Data columns (total 10 columns):\n",
      " #   Column                    Non-Null Count  Dtype         \n",
      "---  ------                    --------------  -----         \n",
      " 0   №                         50 non-null     int64         \n",
      " 1   Дата                      50 non-null     datetime64[ns]\n",
      " 2   Наименование а/к          50 non-null     object        \n",
      " 3   Код автакомпании          50 non-null     object        \n",
      " 4   Номер рейса               50 non-null     int64         \n",
      " 5   Тип рейса                 50 non-null     object        \n",
      " 6   Флаг прилет/вылет         50 non-null     object        \n",
      " 7   Направление               50 non-null     object        \n",
      " 8   Кол-во пассажиров         43 non-null     float64       \n",
      " 9   Международный/ Внутрений  50 non-null     object        \n",
      "dtypes: datetime64[ns](1), float64(1), int64(2), object(6)\n",
      "memory usage: 4.0+ KB\n"
     ]
    }
   ],
   "source": [
    "df.info()"
   ]
  },
  {
   "cell_type": "code",
   "execution_count": 6,
   "metadata": {},
   "outputs": [],
   "source": [
    "# Количество прилетных рейсов\n",
    "flight_count = df[df['Флаг прилет/вылет'] == \"A\"].groupby('Наименование а/к')['Международный/ Внутрений'].count()"
   ]
  },
  {
   "cell_type": "code",
   "execution_count": 7,
   "metadata": {},
   "outputs": [],
   "source": [
    "flight_count = pd.DataFrame(flight_count).reset_index()"
   ]
  },
  {
   "cell_type": "code",
   "execution_count": 8,
   "metadata": {},
   "outputs": [],
   "source": [
    "#Количество международных рейсов\n",
    "international = df[df['Международный/ Внутрений'] == \"Международный\"].groupby('Наименование а/к')['Международный/ Внутрений'].count()"
   ]
  },
  {
   "cell_type": "code",
   "execution_count": 9,
   "metadata": {},
   "outputs": [],
   "source": [
    "international = pd.DataFrame(international).reset_index()"
   ]
  },
  {
   "cell_type": "code",
   "execution_count": 10,
   "metadata": {},
   "outputs": [],
   "source": [
    "#Самый частолетаемый рейс\n",
    "often = df.groupby(['Наименование а/к','Направление'],as_index=False)['Номер рейса']\\\n",
    ".count().sort_values(by='Номер рейса', ascending=False).iloc[0:3]"
   ]
  },
  {
   "cell_type": "code",
   "execution_count": 11,
   "metadata": {},
   "outputs": [],
   "source": [
    "often = pd.DataFrame(often).reset_index()"
   ]
  },
  {
   "cell_type": "code",
   "execution_count": 12,
   "metadata": {},
   "outputs": [],
   "source": [
    "#Номер рейса с направлением Самара\n",
    "Samara_number = df[df['Направление'] == 'Самара'].drop_duplicates(subset=['Наименование а/к'])"
   ]
  },
  {
   "cell_type": "code",
   "execution_count": 13,
   "metadata": {},
   "outputs": [],
   "source": [
    "Samara_number = Samara_number[['Наименование а/к','Номер рейса']]"
   ]
  },
  {
   "cell_type": "code",
   "execution_count": 14,
   "metadata": {},
   "outputs": [],
   "source": [
    "#Среднее количество пассажиров по всем рейсам авиакомпании\n",
    "mean_passangers = df.groupby('Наименование а/к')['Кол-во пассажиров'].mean()"
   ]
  },
  {
   "cell_type": "code",
   "execution_count": 15,
   "metadata": {},
   "outputs": [],
   "source": [
    "mean_passangers = pd.DataFrame(mean_passangers).reset_index()"
   ]
  },
  {
   "cell_type": "code",
   "execution_count": 16,
   "metadata": {},
   "outputs": [],
   "source": [
    "svo_rslt = flight_count.merge (international, how='left', \\\n",
    "                               left_on='Наименование а/к',right_on='Наименование а/к')"
   ]
  },
  {
   "cell_type": "code",
   "execution_count": 17,
   "metadata": {},
   "outputs": [],
   "source": [
    "svo_rslt = svo_rslt.merge (often, how='left', \\\n",
    "                               left_on='Наименование а/к',right_on='Наименование а/к')"
   ]
  },
  {
   "cell_type": "code",
   "execution_count": 18,
   "metadata": {},
   "outputs": [],
   "source": [
    "svo_rslt = svo_rslt.merge (Samara_number, how='left', \\\n",
    "                               left_on='Наименование а/к',right_on='Наименование а/к')"
   ]
  },
  {
   "cell_type": "code",
   "execution_count": 19,
   "metadata": {},
   "outputs": [],
   "source": [
    "svo_rslt = svo_rslt.merge (mean_passangers, how='left', \\\n",
    "                               left_on='Наименование а/к',right_on='Наименование а/к')"
   ]
  },
  {
   "cell_type": "code",
   "execution_count": 43,
   "metadata": {},
   "outputs": [],
   "source": [
    "columns_name = ['Авиакомпания',\n",
    "                'Количество прилетных рейсов',\n",
    "                'Количество международных рейсов',\n",
    "                'Самый частолетаемый рейс',\n",
    "                'Номер рейса с направлением Самара',\n",
    "               'Среднее количество пассажиров по всем рейсам авиакомпании']"
   ]
  },
  {
   "cell_type": "code",
   "execution_count": 30,
   "metadata": {},
   "outputs": [],
   "source": [
    "svo_rslt = svo_rslt.drop(columns=['Номер рейса_x'], axis=1)"
   ]
  },
  {
   "cell_type": "code",
   "execution_count": 44,
   "metadata": {},
   "outputs": [],
   "source": [
    "svo_rslt.columns = columns_name"
   ]
  },
  {
   "cell_type": "code",
   "execution_count": 45,
   "metadata": {},
   "outputs": [
    {
     "data": {
      "text/html": [
       "<div>\n",
       "<style scoped>\n",
       "    .dataframe tbody tr th:only-of-type {\n",
       "        vertical-align: middle;\n",
       "    }\n",
       "\n",
       "    .dataframe tbody tr th {\n",
       "        vertical-align: top;\n",
       "    }\n",
       "\n",
       "    .dataframe thead th {\n",
       "        text-align: right;\n",
       "    }\n",
       "</style>\n",
       "<table border=\"1\" class=\"dataframe\">\n",
       "  <thead>\n",
       "    <tr style=\"text-align: right;\">\n",
       "      <th></th>\n",
       "      <th>Авиакомпания</th>\n",
       "      <th>Количество прилетных рейсов</th>\n",
       "      <th>Количество международных рейсов</th>\n",
       "      <th>Самый частолетаемый рейс</th>\n",
       "      <th>Номер рейса с направлением Самара</th>\n",
       "      <th>Среднее количество пассажиров по всем рейсам авиакомпании</th>\n",
       "    </tr>\n",
       "  </thead>\n",
       "  <tbody>\n",
       "    <tr>\n",
       "      <th>0</th>\n",
       "      <td>а/к Крылья</td>\n",
       "      <td>9</td>\n",
       "      <td>12</td>\n",
       "      <td>Алма-Ата</td>\n",
       "      <td>1026</td>\n",
       "      <td>189.692308</td>\n",
       "    </tr>\n",
       "    <tr>\n",
       "      <th>1</th>\n",
       "      <td>а/к Мечта</td>\n",
       "      <td>6</td>\n",
       "      <td>1</td>\n",
       "      <td>Владивосток</td>\n",
       "      <td>35</td>\n",
       "      <td>167.357143</td>\n",
       "    </tr>\n",
       "    <tr>\n",
       "      <th>2</th>\n",
       "      <td>а/к Полет</td>\n",
       "      <td>10</td>\n",
       "      <td>14</td>\n",
       "      <td>Нью-Йорк</td>\n",
       "      <td>526</td>\n",
       "      <td>155.500000</td>\n",
       "    </tr>\n",
       "  </tbody>\n",
       "</table>\n",
       "</div>"
      ],
      "text/plain": [
       "  Авиакомпания  Количество прилетных рейсов  Количество международных рейсов  \\\n",
       "0   а/к Крылья                            9                               12   \n",
       "1    а/к Мечта                            6                                1   \n",
       "2    а/к Полет                           10                               14   \n",
       "\n",
       "  Самый частолетаемый рейс  Номер рейса с направлением Самара  \\\n",
       "0                 Алма-Ата                               1026   \n",
       "1              Владивосток                                 35   \n",
       "2                 Нью-Йорк                                526   \n",
       "\n",
       "   Среднее количество пассажиров по всем рейсам авиакомпании  \n",
       "0                                         189.692308          \n",
       "1                                         167.357143          \n",
       "2                                         155.500000          "
      ]
     },
     "execution_count": 45,
     "metadata": {},
     "output_type": "execute_result"
    }
   ],
   "source": [
    "svo_rslt"
   ]
  }
 ],
 "metadata": {
  "kernelspec": {
   "display_name": "Python 3",
   "language": "python",
   "name": "python3"
  },
  "language_info": {
   "codemirror_mode": {
    "name": "ipython",
    "version": 3
   },
   "file_extension": ".py",
   "mimetype": "text/x-python",
   "name": "python",
   "nbconvert_exporter": "python",
   "pygments_lexer": "ipython3",
   "version": "3.8.3"
  }
 },
 "nbformat": 4,
 "nbformat_minor": 4
}
