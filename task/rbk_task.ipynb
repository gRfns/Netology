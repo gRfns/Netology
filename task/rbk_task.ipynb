{
 "cells": [
  {
   "cell_type": "code",
   "execution_count": 23,
   "metadata": {},
   "outputs": [],
   "source": [
    "import pandas as pd\n",
    "import matplotlib.pyplot as plt\n",
    "plt.rcParams.update({'font.size': 22})"
   ]
  },
  {
   "cell_type": "code",
   "execution_count": 2,
   "metadata": {},
   "outputs": [],
   "source": [
    "rbk_base = pd.read_excel('rbk.xlsx', sheet_name='База публикаций') # загружаем лист База публикаций\n",
    "rbk_download = pd.read_excel('rbk.xlsx', sheet_name='Выгрузка') # загружаем лист Выгрузка"
   ]
  },
  {
   "cell_type": "code",
   "execution_count": 3,
   "metadata": {},
   "outputs": [],
   "source": [
    "rbk_download.drop(columns=['Unnamed: 2','Unnamed: 3'], axis=1,inplace=True) # дропаем ненужные столбцы"
   ]
  },
  {
   "cell_type": "code",
   "execution_count": 4,
   "metadata": {},
   "outputs": [],
   "source": [
    "rbk_download.columns = ['url','views']   # переименовываем столбцы\n",
    "rbk_download = rbk_download.drop([0,1])  # удаляем верхние строки"
   ]
  },
  {
   "cell_type": "code",
   "execution_count": 5,
   "metadata": {},
   "outputs": [],
   "source": [
    "# список исключений\n",
    "list_to_drop = ['test.pro','test.v2.pro','feature-rbcnews','/preview/','staging.pro','staging.v2.pro'] \n",
    "# убираем из данных просмотры содержащие наш список\n",
    "rbk_download = rbk_download[~rbk_download.url.str.contains('|'.join(list_to_drop))]"
   ]
  },
  {
   "cell_type": "code",
   "execution_count": 6,
   "metadata": {},
   "outputs": [],
   "source": [
    "# вытаскиваем id из url\n",
    "rbk_download['id'] = rbk_download['url'].str.extract('(5c.*)', expand=True)"
   ]
  },
  {
   "cell_type": "code",
   "execution_count": 7,
   "metadata": {},
   "outputs": [],
   "source": [
    "# переименовываем столбцы\n",
    "rbk_base.columns = ['id','публикация','url']"
   ]
  },
  {
   "cell_type": "code",
   "execution_count": 8,
   "metadata": {},
   "outputs": [],
   "source": [
    "# мерджем наши таблицы\n",
    "result_rbk = pd.merge(rbk_base,rbk_download, how='inner', on='id')"
   ]
  },
  {
   "cell_type": "code",
   "execution_count": 9,
   "metadata": {},
   "outputs": [
    {
     "data": {
      "text/html": [
       "<div>\n",
       "<style scoped>\n",
       "    .dataframe tbody tr th:only-of-type {\n",
       "        vertical-align: middle;\n",
       "    }\n",
       "\n",
       "    .dataframe tbody tr th {\n",
       "        vertical-align: top;\n",
       "    }\n",
       "\n",
       "    .dataframe thead th {\n",
       "        text-align: right;\n",
       "    }\n",
       "</style>\n",
       "<table border=\"1\" class=\"dataframe\">\n",
       "  <thead>\n",
       "    <tr style=\"text-align: right;\">\n",
       "      <th></th>\n",
       "      <th>публикация</th>\n",
       "      <th>views</th>\n",
       "    </tr>\n",
       "  </thead>\n",
       "  <tbody>\n",
       "    <tr>\n",
       "      <th>94</th>\n",
       "      <td>Глава BlaBlaCar — РБК: «Мы оказывали услуги, н...</td>\n",
       "      <td>11483</td>\n",
       "    </tr>\n",
       "    <tr>\n",
       "      <th>33</th>\n",
       "      <td>«Алые паруса» сворачиваются: почему владельцы ...</td>\n",
       "      <td>11282</td>\n",
       "    </tr>\n",
       "    <tr>\n",
       "      <th>206</th>\n",
       "      <td>Кедры решают все: как вывести косметику на аме...</td>\n",
       "      <td>7078</td>\n",
       "    </tr>\n",
       "    <tr>\n",
       "      <th>247</th>\n",
       "      <td>Недооцененный экспорт: что имеет смысл продава...</td>\n",
       "      <td>7067</td>\n",
       "    </tr>\n",
       "    <tr>\n",
       "      <th>362</th>\n",
       "      <td>Требования работодателя vs ожидания кандидатов...</td>\n",
       "      <td>6689</td>\n",
       "    </tr>\n",
       "    <tr>\n",
       "      <th>175</th>\n",
       "      <td>Как потребителей заставили платить больше: чет...</td>\n",
       "      <td>6492</td>\n",
       "    </tr>\n",
       "    <tr>\n",
       "      <th>85</th>\n",
       "      <td>Восемь способов увеличить средний чек</td>\n",
       "      <td>6386</td>\n",
       "    </tr>\n",
       "    <tr>\n",
       "      <th>125</th>\n",
       "      <td>Золушки молла: где маленьким сервисам найти пр...</td>\n",
       "      <td>6170</td>\n",
       "    </tr>\n",
       "    <tr>\n",
       "      <th>229</th>\n",
       "      <td>Менеджеры РФ получают дополнительное образован...</td>\n",
       "      <td>5888</td>\n",
       "    </tr>\n",
       "    <tr>\n",
       "      <th>78</th>\n",
       "      <td>Видишь, я дарю: как заработать на необычных ко...</td>\n",
       "      <td>5877</td>\n",
       "    </tr>\n",
       "    <tr>\n",
       "      <th>227</th>\n",
       "      <td>Математика российского люкса: точный портрет п...</td>\n",
       "      <td>5571</td>\n",
       "    </tr>\n",
       "    <tr>\n",
       "      <th>192</th>\n",
       "      <td>Как трансформируется логистика в ретейле: лучш...</td>\n",
       "      <td>5513</td>\n",
       "    </tr>\n",
       "    <tr>\n",
       "      <th>97</th>\n",
       "      <td>Гнетущее молчание на совещании: как разрешить ...</td>\n",
       "      <td>5471</td>\n",
       "    </tr>\n",
       "    <tr>\n",
       "      <th>397</th>\n",
       "      <td>Эксперты: российскому рынку кофеен можно «попр...</td>\n",
       "      <td>5311</td>\n",
       "    </tr>\n",
       "    <tr>\n",
       "      <th>168</th>\n",
       "      <td>Как не дать аренде убить розничные сети</td>\n",
       "      <td>5035</td>\n",
       "    </tr>\n",
       "    <tr>\n",
       "      <th>342</th>\n",
       "      <td>Сласти по «АндерСону»: зачем сеть семейных каф...</td>\n",
       "      <td>5002</td>\n",
       "    </tr>\n",
       "    <tr>\n",
       "      <th>237</th>\n",
       "      <td>Мировой сектор товаров класса люкс восстановил...</td>\n",
       "      <td>4954</td>\n",
       "    </tr>\n",
       "    <tr>\n",
       "      <th>309</th>\n",
       "      <td>Россиянам все труднее платить ипотеку и покупа...</td>\n",
       "      <td>4917</td>\n",
       "    </tr>\n",
       "    <tr>\n",
       "      <th>263</th>\n",
       "      <td>Персональный робот: как искусственный интеллек...</td>\n",
       "      <td>4840</td>\n",
       "    </tr>\n",
       "    <tr>\n",
       "      <th>98</th>\n",
       "      <td>Год под знаком пива: как изменились алкогольны...</td>\n",
       "      <td>4798</td>\n",
       "    </tr>\n",
       "  </tbody>\n",
       "</table>\n",
       "</div>"
      ],
      "text/plain": [
       "                                            публикация  views\n",
       "94   Глава BlaBlaCar — РБК: «Мы оказывали услуги, н...  11483\n",
       "33   «Алые паруса» сворачиваются: почему владельцы ...  11282\n",
       "206  Кедры решают все: как вывести косметику на аме...   7078\n",
       "247  Недооцененный экспорт: что имеет смысл продава...   7067\n",
       "362  Требования работодателя vs ожидания кандидатов...   6689\n",
       "175  Как потребителей заставили платить больше: чет...   6492\n",
       "85               Восемь способов увеличить средний чек   6386\n",
       "125  Золушки молла: где маленьким сервисам найти пр...   6170\n",
       "229  Менеджеры РФ получают дополнительное образован...   5888\n",
       "78   Видишь, я дарю: как заработать на необычных ко...   5877\n",
       "227  Математика российского люкса: точный портрет п...   5571\n",
       "192  Как трансформируется логистика в ретейле: лучш...   5513\n",
       "97   Гнетущее молчание на совещании: как разрешить ...   5471\n",
       "397  Эксперты: российскому рынку кофеен можно «попр...   5311\n",
       "168            Как не дать аренде убить розничные сети   5035\n",
       "342  Сласти по «АндерСону»: зачем сеть семейных каф...   5002\n",
       "237  Мировой сектор товаров класса люкс восстановил...   4954\n",
       "309  Россиянам все труднее платить ипотеку и покупа...   4917\n",
       "263  Персональный робот: как искусственный интеллек...   4840\n",
       "98   Год под знаком пива: как изменились алкогольны...   4798"
      ]
     },
     "execution_count": 9,
     "metadata": {},
     "output_type": "execute_result"
    }
   ],
   "source": [
    "# Смотрим наш топ 20\n",
    "result_rbk.groupby('публикация')['views'].sum().reset_index().sort_values(by='views', ascending=False).head(20)"
   ]
  },
  {
   "cell_type": "code",
   "execution_count": 25,
   "metadata": {},
   "outputs": [],
   "source": [
    "rbk_visual = result_rbk.groupby('публикация')['views'].sum().reset_index().sort_values(by='views', ascending=True).head(20)"
   ]
  },
  {
   "cell_type": "code",
   "execution_count": 26,
   "metadata": {},
   "outputs": [
    {
     "data": {
      "text/plain": [
       "Text(0, 0.5, 'Публикация')"
      ]
     },
     "execution_count": 26,
     "metadata": {},
     "output_type": "execute_result"
    },
    {
     "data": {
      "image/png": "[encoded data removed]",
      "text/plain": [
       "<Figure size 1440x1080 with 1 Axes>"
      ]
     },
     "metadata": {
      "needs_background": "light"
     },
     "output_type": "display_data"
    }
   ],
   "source": [
    "ax = rbk_visual.plot(kind='barh',figsize=(20, 15))\n",
    "ax.set_title('Топ 20 просмотров')\n",
    "ax.set_xlabel('Просмотры')\n",
    "ax.set_ylabel('Публикация')"
   ]
  }
 ],
 "metadata": {
  "kernelspec": {
   "display_name": "Python 3",
   "language": "python",
   "name": "python3"
  },
  "language_info": {
   "codemirror_mode": {
    "name": "ipython",
    "version": 3
   },
   "file_extension": ".py",
   "mimetype": "text/x-python",
   "name": "python",
   "nbconvert_exporter": "python",
   "pygments_lexer": "ipython3",
   "version": "3.8.3"
  }
 },
 "nbformat": 4,
 "nbformat_minor": 4
}
