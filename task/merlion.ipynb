{
 "cells": [
  {
   "cell_type": "code",
   "execution_count": 1,
   "metadata": {},
   "outputs": [],
   "source": [
    "import pandas as pd\n",
    "import numpy as np\n",
    "import matplotlib.pyplot as plt"
   ]
  },
  {
   "cell_type": "code",
   "execution_count": 3,
   "metadata": {},
   "outputs": [],
   "source": [
    "plt.rcParams.update({'font.size': 12})"
   ]
  },
  {
   "cell_type": "code",
   "execution_count": 4,
   "metadata": {},
   "outputs": [],
   "source": [
    "df = pd.read_excel('merlion.xlsx', sheet_name='Лист1')"
   ]
  },
  {
   "cell_type": "code",
   "execution_count": 6,
   "metadata": {},
   "outputs": [
    {
     "data": {
      "text/html": [
       "<div>\n",
       "<style scoped>\n",
       "    .dataframe tbody tr th:only-of-type {\n",
       "        vertical-align: middle;\n",
       "    }\n",
       "\n",
       "    .dataframe tbody tr th {\n",
       "        vertical-align: top;\n",
       "    }\n",
       "\n",
       "    .dataframe thead th {\n",
       "        text-align: right;\n",
       "    }\n",
       "</style>\n",
       "<table border=\"1\" class=\"dataframe\">\n",
       "  <thead>\n",
       "    <tr style=\"text-align: right;\">\n",
       "      <th></th>\n",
       "      <th>Дата Учета</th>\n",
       "      <th>Документ Но.</th>\n",
       "      <th>Сумма</th>\n",
       "      <th>Клиент Но.</th>\n",
       "      <th>Источник формирования</th>\n",
       "    </tr>\n",
       "  </thead>\n",
       "  <tbody>\n",
       "    <tr>\n",
       "      <th>0</th>\n",
       "      <td>2016-01-01</td>\n",
       "      <td>1</td>\n",
       "      <td>2396</td>\n",
       "      <td>TC634628</td>\n",
       "      <td>Терминал</td>\n",
       "    </tr>\n",
       "    <tr>\n",
       "      <th>1</th>\n",
       "      <td>2016-01-05</td>\n",
       "      <td>2</td>\n",
       "      <td>2315</td>\n",
       "      <td>TC634748</td>\n",
       "      <td>Терминал</td>\n",
       "    </tr>\n",
       "    <tr>\n",
       "      <th>2</th>\n",
       "      <td>2016-01-05</td>\n",
       "      <td>3</td>\n",
       "      <td>2332</td>\n",
       "      <td>TC634688</td>\n",
       "      <td>Сайт</td>\n",
       "    </tr>\n",
       "    <tr>\n",
       "      <th>3</th>\n",
       "      <td>2016-01-09</td>\n",
       "      <td>4</td>\n",
       "      <td>2857</td>\n",
       "      <td>TC634809</td>\n",
       "      <td>Терминал</td>\n",
       "    </tr>\n",
       "    <tr>\n",
       "      <th>4</th>\n",
       "      <td>2016-01-09</td>\n",
       "      <td>5</td>\n",
       "      <td>2315</td>\n",
       "      <td>TC634869</td>\n",
       "      <td>Колл-центр</td>\n",
       "    </tr>\n",
       "  </tbody>\n",
       "</table>\n",
       "</div>"
      ],
      "text/plain": [
       "  Дата Учета  Документ Но.  Сумма Клиент Но. Источник формирования\n",
       "0 2016-01-01             1   2396   TC634628              Терминал\n",
       "1 2016-01-05             2   2315   TC634748              Терминал\n",
       "2 2016-01-05             3   2332   TC634688                  Сайт\n",
       "3 2016-01-09             4   2857   TC634809              Терминал\n",
       "4 2016-01-09             5   2315   TC634869            Колл-центр"
      ]
     },
     "execution_count": 6,
     "metadata": {},
     "output_type": "execute_result"
    }
   ],
   "source": [
    "df.head(5)"
   ]
  },
  {
   "cell_type": "code",
   "execution_count": 27,
   "metadata": {},
   "outputs": [
    {
     "data": {
      "text/html": [
       "<div>\n",
       "<style scoped>\n",
       "    .dataframe tbody tr th:only-of-type {\n",
       "        vertical-align: middle;\n",
       "    }\n",
       "\n",
       "    .dataframe tbody tr th {\n",
       "        vertical-align: top;\n",
       "    }\n",
       "\n",
       "    .dataframe thead th {\n",
       "        text-align: right;\n",
       "    }\n",
       "</style>\n",
       "<table border=\"1\" class=\"dataframe\">\n",
       "  <thead>\n",
       "    <tr style=\"text-align: right;\">\n",
       "      <th></th>\n",
       "      <th>Дата Учета</th>\n",
       "      <th>Документ Но.</th>\n",
       "      <th>Сумма</th>\n",
       "      <th>Клиент Но.</th>\n",
       "      <th>Источник формирования</th>\n",
       "      <th>source_category</th>\n",
       "    </tr>\n",
       "  </thead>\n",
       "  <tbody>\n",
       "    <tr>\n",
       "      <th>0</th>\n",
       "      <td>2016-01-01</td>\n",
       "      <td>1</td>\n",
       "      <td>2396</td>\n",
       "      <td>TC634628</td>\n",
       "      <td>Терминал</td>\n",
       "      <td>3</td>\n",
       "    </tr>\n",
       "    <tr>\n",
       "      <th>1</th>\n",
       "      <td>2016-01-05</td>\n",
       "      <td>2</td>\n",
       "      <td>2315</td>\n",
       "      <td>TC634748</td>\n",
       "      <td>Терминал</td>\n",
       "      <td>3</td>\n",
       "    </tr>\n",
       "    <tr>\n",
       "      <th>2</th>\n",
       "      <td>2016-01-05</td>\n",
       "      <td>3</td>\n",
       "      <td>2332</td>\n",
       "      <td>TC634688</td>\n",
       "      <td>Сайт</td>\n",
       "      <td>1</td>\n",
       "    </tr>\n",
       "    <tr>\n",
       "      <th>3</th>\n",
       "      <td>2016-01-09</td>\n",
       "      <td>4</td>\n",
       "      <td>2857</td>\n",
       "      <td>TC634809</td>\n",
       "      <td>Терминал</td>\n",
       "      <td>3</td>\n",
       "    </tr>\n",
       "    <tr>\n",
       "      <th>4</th>\n",
       "      <td>2016-01-09</td>\n",
       "      <td>5</td>\n",
       "      <td>2315</td>\n",
       "      <td>TC634869</td>\n",
       "      <td>Колл-центр</td>\n",
       "      <td>0</td>\n",
       "    </tr>\n",
       "  </tbody>\n",
       "</table>\n",
       "</div>"
      ],
      "text/plain": [
       "  Дата Учета  Документ Но.  Сумма Клиент Но. Источник формирования  \\\n",
       "0 2016-01-01             1   2396   TC634628              Терминал   \n",
       "1 2016-01-05             2   2315   TC634748              Терминал   \n",
       "2 2016-01-05             3   2332   TC634688                  Сайт   \n",
       "3 2016-01-09             4   2857   TC634809              Терминал   \n",
       "4 2016-01-09             5   2315   TC634869            Колл-центр   \n",
       "\n",
       "   source_category  \n",
       "0                3  \n",
       "1                3  \n",
       "2                1  \n",
       "3                3  \n",
       "4                0  "
      ]
     },
     "execution_count": 27,
     "metadata": {},
     "output_type": "execute_result"
    }
   ],
   "source": [
    "# преобразуем строковый тип данных в цифровой\n",
    "df['source_category'] = df.groupby('Источник формирования').ngroup()\n",
    "df.head(5)"
   ]
  },
  {
   "cell_type": "code",
   "execution_count": 13,
   "metadata": {},
   "outputs": [],
   "source": [
    "X = df.loc[:, ['Сумма','source_category']].values # выбираем два столбца для определения кластеров"
   ]
  },
  {
   "cell_type": "code",
   "execution_count": 14,
   "metadata": {
    "scrolled": true
   },
   "outputs": [
    {
     "data": {
      "image/png": "[encoded data removed]",
      "text/plain": [
       "<Figure size 720x576 with 1 Axes>"
      ]
     },
     "metadata": {
      "needs_background": "light"
     },
     "output_type": "display_data"
    }
   ],
   "source": [
    "from sklearn.cluster import KMeans   #импорт метода\n",
    "#строим график для выбора кол-ва кластеров\n",
    "wcss = []     \n",
    "for i in range(1, 11):\n",
    "    kmeans = KMeans(n_clusters = i, init = 'k-means++')  \n",
    "    kmeans.fit(X)\n",
    "    wcss.append(kmeans.inertia_)\n",
    "plt.figure(figsize=(10,8))\n",
    "plt.plot(range(1, 11), wcss, linestyle='--', marker='o', color='b')\n",
    "plt.title('The Elbow Method')\n",
    "plt.xlabel('Number of clusters')\n",
    "plt.ylabel('WCSS')\n",
    "plt.show()"
   ]
  },
  {
   "cell_type": "code",
   "execution_count": 41,
   "metadata": {},
   "outputs": [],
   "source": [
    "kmeans = KMeans(n_clusters = 4, init = 'k-means++')    #применяем метод, делим на 4 кластера\n",
    "y_kmeans = kmeans.fit_predict(X)"
   ]
  },
  {
   "cell_type": "code",
   "execution_count": 42,
   "metadata": {},
   "outputs": [],
   "source": [
    "clusters = pd.Series(kmeans.labels_)"
   ]
  },
  {
   "cell_type": "code",
   "execution_count": 45,
   "metadata": {},
   "outputs": [],
   "source": [
    "new_df = pd.concat([df,clusters], axis=1)    # переименовываем столбцы         \n",
    "new_df.columns = ['Дата Учета','Документ Но.','Сумма','Клиент Но','Источник формирования','source_category','Тип Клиента']"
   ]
  },
  {
   "cell_type": "code",
   "execution_count": 46,
   "metadata": {},
   "outputs": [],
   "source": [
    "new_df.to_excel('new.xlsx')  "
   ]
  }
 ],
 "metadata": {
  "kernelspec": {
   "display_name": "Python 3",
   "language": "python",
   "name": "python3"
  },
  "language_info": {
   "codemirror_mode": {
    "name": "ipython",
    "version": 3
   },
   "file_extension": ".py",
   "mimetype": "text/x-python",
   "name": "python",
   "nbconvert_exporter": "python",
   "pygments_lexer": "ipython3",
   "version": "3.8.3"
  }
 },
 "nbformat": 4,
 "nbformat_minor": 4
}
